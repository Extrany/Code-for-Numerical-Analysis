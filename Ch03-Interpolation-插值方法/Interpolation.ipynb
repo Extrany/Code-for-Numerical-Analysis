{
 "cells": [
  {
   "cell_type": "code",
   "execution_count": 2,
   "id": "b8939962-a9a1-47ba-9e23-5b8640e39ac3",
   "metadata": {},
   "outputs": [],
   "source": [
    "import numpy as np"
   ]
  },
  {
   "cell_type": "markdown",
   "id": "a0c32866-03f3-4f67-8bcb-2fc1fa099560",
   "metadata": {},
   "source": [
    "### Lagrange interpolation"
   ]
  },
  {
   "cell_type": "markdown",
   "id": "1d1bcc09-2452-4d64-a616-d8aa9b81aa34",
   "metadata": {},
   "source": []
  },
  {
   "cell_type": "markdown",
   "id": "0fa9c64d-9aa5-4117-b7f4-cc6e09984deb",
   "metadata": {},
   "source": [
    "#### "
   ]
  },
  {
   "cell_type": "code",
   "execution_count": null,
   "id": "383f6430-ff75-4828-9db3-98adca23321c",
   "metadata": {},
   "outputs": [],
   "source": []
  },
  {
   "cell_type": "markdown",
   "id": "4a77fd73-2815-433b-9441-e7f7e021a561",
   "metadata": {},
   "source": [
    "### Newton Interpolation"
   ]
  },
  {
   "cell_type": "markdown",
   "id": "d60dbe04-605b-4ddd-ab11-420cc514b187",
   "metadata": {},
   "source": [
    "增量式算法"
   ]
  }
 ],
 "metadata": {
  "kernelspec": {
   "display_name": "Python 3 (ipykernel)",
   "language": "python",
   "name": "python3"
  },
  "language_info": {
   "codemirror_mode": {
    "name": "ipython",
    "version": 3
   },
   "file_extension": ".py",
   "mimetype": "text/x-python",
   "name": "python",
   "nbconvert_exporter": "python",
   "pygments_lexer": "ipython3",
   "version": "3.9.19"
  }
 },
 "nbformat": 4,
 "nbformat_minor": 5
}
